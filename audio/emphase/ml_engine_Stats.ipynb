{
 "cells": [
  {
   "cell_type": "code",
   "execution_count": 1,
   "metadata": {},
   "outputs": [],
   "source": [
    "import os\n",
    "from os.path import isdir, join\n",
    "from pathlib import Path\n",
    "import numpy as np\n",
    "import pandas as pd\n",
    "from scipy import stats\n",
    "\n",
    "# Visualization\n",
    "import matplotlib.pyplot as plt\n",
    "import seaborn as sns\n",
    "import IPython.display as ipd\n",
    "import librosa.display\n",
    "\n",
    "%matplotlib inline"
   ]
  },
  {
   "cell_type": "code",
   "execution_count": 2,
   "metadata": {},
   "outputs": [],
   "source": [
    "#### Matrice des features (stats)\n",
    "\n",
    "# Remove the 0-padding to calculate statistics\n",
    "def mat_reshape(mat) :\n",
    "    for i in range(len(mat)) :\n",
    "        ncol = mat.shape[1]\n",
    "        if sum(mat[i,:] == np.repeat(0,ncol))==ncol :\n",
    "            return i\n",
    "\n",
    "# get stats giving a matrix of coeff\n",
    "def stats_features(features) :\n",
    "    X = np.zeros((len(features),160))\n",
    "    i = 0\n",
    "    for f in features : \n",
    "        ind = mat_reshape(f)\n",
    "        stat = stats.describe(f[:ind,:])\n",
    "        st = np.asarray([s for s in stat][2:])\n",
    "        vect = np.ndarray.flatten(st)\n",
    "        if (sum(np.isnan(vect))==0) :\n",
    "            X[i,:] = vect\n",
    "            i+=1\n",
    "    return X"
   ]
  },
  {
   "cell_type": "code",
   "execution_count": 3,
   "metadata": {},
   "outputs": [],
   "source": [
    "from sklearn.model_selection import KFold\n",
    "\n",
    "context = 1\n",
    "# Charger les features et labels\n",
    "if context :\n",
    "    ft_SIWIS = np.load('ft_SIWIS_ctxt.npz.npy')\n",
    "    labels_SIWIS = np.load('labels_SIWIS_ctxt.npz.npy')\n",
    "else :\n",
    "    ft_SIWIS = np.load('ft_SIWIS.npz.npy')\n",
    "    labels_SIWIS = np.load('labels_SIWIS.npz.npy')\n",
    "# K-Fold\n",
    "nfolds = 10\n",
    "kf = KFold(n_splits=nfolds)\n",
    "train_index = []\n",
    "test_index = []\n",
    "for train, test in kf.split(range(len(labels_SIWIS))):\n",
    "    train_index.append(train)\n",
    "    test_index.append(test)"
   ]
  },
  {
   "cell_type": "code",
   "execution_count": 4,
   "metadata": {},
   "outputs": [],
   "source": [
    "from sklearn.ensemble import RandomForestClassifier\n",
    "import xgboost as xgb\n",
    "from sklearn.svm import SVC\n",
    "from  sklearn.preprocessing import StandardScaler\n",
    "\n",
    "#Creation of different models (Random Forest, XGBoost, SVM)\n",
    "def rfClassif_forecast(X_train, Y_train, X_test, n) :\n",
    "    rf = RandomForestClassifier(n_estimators = n)\n",
    "    rf.fit(X_train, Y_train)\n",
    "    return rf.predict(X_test)\n",
    "\n",
    "def XgbClassif_forecast(X_train, Y_train, X_test, n) :\n",
    "    gbm = xgb.XGBClassifier(n_estimators=n, objective='binary:logistic', eval_metric='auc', max_depth=4)\n",
    "    gbm.fit(X_train, Y_train) \n",
    "    return gbm.predict(X_test)\n",
    "\n",
    "def SVC_forecast(X_train, Y_train, X_test) :\n",
    "    scaler = StandardScaler()\n",
    "    clf = SVC(C=20)\n",
    "    clf.fit(scaler.fit_transform(X_train), Y_train)\n",
    "    return clf.predict(scaler.fit_transform(X_test))\n",
    "  \n",
    "\n",
    "# Calcul des scores\n",
    "def scores(reference, test):\n",
    "    tab = (pd.crosstab(reference, test)).astype(float)\n",
    "    sco = np.repeat(0.0, 5)\n",
    "    # SUCCES GLOBAL\n",
    "    sco[0]=(tab[0][0]+tab[1][1])/(sum(tab[0])+sum(tab[1]))\n",
    "    # HIT RATE H\n",
    "    sco[1]=tab[1][1]/sum(tab[1])\n",
    "    # FALSE ALARM RATE FAR\n",
    "    sco[2]=tab[1][0]/sum(tab[0])\n",
    "    # SCORE DE PIERCE PSS = H-F\n",
    "    sco[3]=sco[1]-sco[2]\n",
    "    # MISS RATE MSA\n",
    "    sco[4]= tab[0][1] / (tab[0][1] + tab[1][1])\n",
    "    \n",
    "    return sco\n",
    "\n",
    "def print_sc(scores):\n",
    "    sc = ['accuracy : ', 'H : ', 'FAR : ', 'PSS : ', 'MSA : ']\n",
    "    print([sc[i]+str(round(scores[i],5)) for i in range(len(scores))])"
   ]
  },
  {
   "cell_type": "code",
   "execution_count": 33,
   "metadata": {
    "scrolled": true
   },
   "outputs": [
    {
     "name": "stdout",
     "output_type": "stream",
     "text": [
      "['accuracy : 0.96703', 'H : 0.95604', 'FAR : 0.04396', 'PSS : 0.91209', 'MSA : 0.02247']\n",
      "['accuracy : 0.90659', 'H : 0.87912', 'FAR : 0.12088', 'PSS : 0.75824', 'MSA : 0.06977']\n",
      "['accuracy : 0.93132', 'H : 0.94505', 'FAR : 0.05495', 'PSS : 0.89011', 'MSA : 0.08021']\n",
      "['accuracy : 0.9533', 'H : 0.95055', 'FAR : 0.04945', 'PSS : 0.9011', 'MSA : 0.0442']\n",
      "['accuracy : 0.87637', 'H : 0.85165', 'FAR : 0.14835', 'PSS : 0.7033', 'MSA : 0.10405']\n",
      "['accuracy : 0.93407', 'H : 0.92857', 'FAR : 0.07143', 'PSS : 0.85714', 'MSA : 0.06111']\n",
      "['accuracy : 0.90385', 'H : 0.90659', 'FAR : 0.09341', 'PSS : 0.81319', 'MSA : 0.09836']\n",
      "['accuracy : 0.83791', 'H : 0.79121', 'FAR : 0.20879', 'PSS : 0.58242', 'MSA : 0.12727']\n",
      "['accuracy : 0.87912', 'H : 0.87363', 'FAR : 0.12637', 'PSS : 0.74725', 'MSA : 0.11667']\n",
      "['accuracy : 0.93132', 'H : 0.96154', 'FAR : 0.03846', 'PSS : 0.92308', 'MSA : 0.09326']\n",
      "['accuracy : 0.85989', 'H : 0.86264', 'FAR : 0.13736', 'PSS : 0.72527', 'MSA : 0.14208']\n",
      "['accuracy : 0.93956', 'H : 0.93956', 'FAR : 0.06044', 'PSS : 0.87912', 'MSA : 0.06044']\n",
      "['accuracy : 0.92287', 'H : 0.94505', 'FAR : 0.05525', 'PSS : 0.88981', 'MSA : 0.09474']\n",
      "['accuracy : 0.8843', 'H : 0.84615', 'FAR : 0.1547', 'PSS : 0.69146', 'MSA : 0.08333']\n",
      "['accuracy : 0.83747', 'H : 0.83516', 'FAR : 0.16575', 'PSS : 0.66942', 'MSA : 0.16022']\n",
      "['accuracy : 0.93113', 'H : 0.92265', 'FAR : 0.07692', 'PSS : 0.84573', 'MSA : 0.0618']\n",
      "['accuracy : 0.88154', 'H : 0.87293', 'FAR : 0.12637', 'PSS : 0.74655', 'MSA : 0.11236']\n",
      "['accuracy : 0.92562', 'H : 0.93923', 'FAR : 0.06044', 'PSS : 0.87879', 'MSA : 0.08602']\n",
      "['accuracy : 0.83747', 'H : 0.7967', 'FAR : 0.20442', 'PSS : 0.59228', 'MSA : 0.13174']\n",
      "['accuracy : 0.77961', 'H : 0.69231', 'FAR : 0.30939', 'PSS : 0.38292', 'MSA : 0.16']\n",
      "['accuracy : 0.80716', 'H : 0.84615', 'FAR : 0.1547', 'PSS : 0.69146', 'MSA : 0.21429']\n",
      "['accuracy : 0.85399', 'H : 0.85083', 'FAR : 0.14835', 'PSS : 0.70248', 'MSA : 0.14444']\n",
      "['accuracy : 0.79063', 'H : 0.77348', 'FAR : 0.22527', 'PSS : 0.54821', 'MSA : 0.2']\n",
      "['accuracy : 0.8595', 'H : 0.87845', 'FAR : 0.12088', 'PSS : 0.75757', 'MSA : 0.15426']\n",
      "['accuracy : 0.92837', 'H : 0.93407', 'FAR : 0.0663', 'PSS : 0.86777', 'MSA : 0.07609']\n",
      "['accuracy : 0.83747', 'H : 0.86264', 'FAR : 0.13812', 'PSS : 0.72452', 'MSA : 0.17801']\n",
      "['accuracy : 0.93939', 'H : 0.97253', 'FAR : 0.02762', 'PSS : 0.9449', 'MSA : 0.08763']\n",
      "['accuracy : 0.95041', 'H : 0.93923', 'FAR : 0.06044', 'PSS : 0.87879', 'MSA : 0.03955']\n",
      "['accuracy : 0.90083', 'H : 0.87293', 'FAR : 0.12637', 'PSS : 0.74655', 'MSA : 0.07602']\n",
      "['accuracy : 0.90634', 'H : 0.93923', 'FAR : 0.06044', 'PSS : 0.87879', 'MSA : 0.11917']\n"
     ]
    }
   ],
   "source": [
    "# scores : 'accuracy : ', 'H : ', 'FAR : ', 'PSS : ', 'MSA : '\n",
    "# methodes : Xgb, RF, SVM\n",
    "\n",
    "#K_fold validation for the 3 models\n",
    "nb_methodes = 3\n",
    "nb_sc = 5\n",
    "scores_mat = np.zeros((nfolds, nb_sc, nb_methodes,2))\n",
    "for fold in range(nfolds):\n",
    "    labels_train = labels[train_index[fold]]\n",
    "    labels_test = labels[test_index[fold]]\n",
    "\n",
    "    ft_train = ft[train_index[fold]]\n",
    "    ft_test = ft[test_index[fold]]\n",
    "\n",
    "    X_train = stats_features(ft_train)\n",
    "    X_test = stats_features(ft_test)    \n",
    "    y_train = pd.Categorical(labels_train)\n",
    "    y_test = pd.Categorical(labels_test)\n",
    "    #else :\n",
    "     #   y_train = pd.Categorical([lab for sub in labels_train for lab in sub])\n",
    "    #    y_test = pd.Categorical([lab for sub in labels_test for lab in sub])\n",
    "\n",
    "    \n",
    "    rf_pred = rfClassif_forecast(X_train, y_train, X_test, 200)\n",
    "    sc_rf = scores(rf_pred, y_test)\n",
    "       \n",
    "    xgb_pred = XgbClassif_forecast(X_train, y_train, X_test, 200)\n",
    "    sc_Xgb = scores(xgb_pred, y_test)\n",
    "    \n",
    "    svm_pred = SVC_forecast(X_train, y_train, X_test)\n",
    "    sc_svm = scores(svm_pred, y_test)\n",
    "    \n",
    "    scores_mat[fold,:,0,context] = sc_Xgb\n",
    "    scores_mat[fold,:,1,context] = sc_rf\n",
    "    scores_mat[fold,:,2,context] = sc_svm\n",
    "    print_sc(sc_Xgb)\n",
    "    print_sc(sc_rf)\n",
    "    print_sc(sc_svm)"
   ]
  },
  {
   "cell_type": "code",
   "execution_count": 34,
   "metadata": {},
   "outputs": [],
   "source": [
    "#loading scores\n",
    "type_ctxt = 0\n",
    "if context :\n",
    "    if ~type_ctxt :\n",
    "        np.save('scores_statsCtxt1.npz', scores_mat)  # 1.1 de context (Abdel)\n",
    "    else :\n",
    "        np.save('scores_statsCtxt2.npz', scores_mat)\n",
    "else :\n",
    "    np.save('scores_stats.npz', scores_mat)"
   ]
  },
  {
   "cell_type": "code",
   "execution_count": 5,
   "metadata": {},
   "outputs": [],
   "source": [
    "type_ctxt = 1\n",
    "context = 0\n",
    "if context :\n",
    "    if ~type_ctxt :\n",
    "        scores = np.load('scores_statsCtxt1.npz.npy')\n",
    "    else :\n",
    "        scores = np.load('scores_statsCtxt2.npz.npy')\n",
    "else :\n",
    "    scores = np.load('scores_stats.npz.npy')"
   ]
  },
  {
   "cell_type": "code",
   "execution_count": 54,
   "metadata": {
    "collapsed": true
   },
   "outputs": [],
   "source": [
    "def boxplot_stats(sc, ylabel, name_file) :\n",
    "    if sc <2 :\n",
    "        plt.ylim([0.6,1])\n",
    "    else :\n",
    "        plt.ylim([0,0.5])\n",
    "    plt.ylabel(ylabel)\n",
    "    plt.boxplot(scores[:,sc,:3,context], widths=0.4, labels=['Xgb', 'RF', 'SVM'])\n",
    "    if context :\n",
    "        plt.title(ylabel+' for context = '+str(context)+' type'+str(type_ctxt+1))\n",
    "        #plt.savefig(name_file+'_ctxt'+str(context)+str(type_ctxt)+'.png')\n",
    "    else :\n",
    "        plt.title(ylabel+' for context = '+str(context))\n",
    "        #plt.savefig(name_file+'_ctxt'+str(context)+'.png')\n",
    "        "
   ]
  },
  {
   "cell_type": "code",
   "execution_count": 55,
   "metadata": {},
   "outputs": [
    {
     "data": {
      "image/png": "[encoded data removed]",
      "text/plain": [
       "<matplotlib.figure.Figure at 0x7ff6e3ad7a90>"
      ]
     },
     "metadata": {},
     "output_type": "display_data"
    }
   ],
   "source": [
    "plt.figure(figsize=(10, 10))\n",
    "plt.subplot(2,2,1)\n",
    "boxplot_stats(0, 'Accuracy', 'acc')\n",
    "plt.subplot(2,2,2)\n",
    "boxplot_stats(1, 'H rate', 'H')\n",
    "plt.subplot(2,2,3)\n",
    "boxplot_stats(2, 'FAR', 'FAR')\n",
    "#plt.savefig('scores_Ctxt10.png')"
   ]
  },
  {
   "cell_type": "code",
   "execution_count": 33,
   "metadata": {},
   "outputs": [
    {
     "data": {
      "text/plain": [
       "SVC(C=20, cache_size=200, class_weight=None, coef0=0.0,\n",
       "  decision_function_shape=None, degree=3, gamma='auto', kernel='rbf',\n",
       "  max_iter=-1, probability=False, random_state=None, shrinking=True,\n",
       "  tol=0.001, verbose=False)"
      ]
     },
     "execution_count": 33,
     "metadata": {},
     "output_type": "execute_result"
    }
   ],
   "source": [
    "### Training on all data\n",
    "X = stats_features(ft)\n",
    "y = pd.Categorical(labels)\n",
    "\n",
    "xgb_model = xgb.XGBClassifier(n_estimators=200, objective='binary:logistic', eval_metric='auc', max_depth=4)\n",
    "xgb_model.fit(X, y) \n",
    "\n",
    "scaler = StandardScaler()\n",
    "svm_model = SVC(C=20)\n",
    "svm_model.fit(scaler.fit_transform(X), y)\n"
   ]
  },
  {
   "cell_type": "code",
   "execution_count": 34,
   "metadata": {
    "collapsed": true
   },
   "outputs": [],
   "source": [
    "import pickle\n",
    "if context :\n",
    "    pickle.dump(xgb_model, open('XGB_model_ctxt1.sav', 'wb'))\n",
    "    pickle.dump(svm_model, open('SVM_model_ctxt1.sav', 'wb'))\n",
    "    #pickle.dump(xgb_model, open('XGB_model_ctxt2.sav', 'wb'))\n",
    "    #pickle.dump(svm_model, open('SVM_model_ctxt2.sav', 'wb'))\n",
    "else :\n",
    "    pickle.dump(xgb_model, open('XGB_model.sav', 'wb'))\n",
    "    pickle.dump(svm_model, open('SVM_model.sav', 'wb'))"
   ]
  }
 ],
 "metadata": {
  "kernelspec": {
   "display_name": "Python 2",
   "language": "python",
   "name": "python2"
  },
  "language_info": {
   "codemirror_mode": {
    "name": "ipython",
    "version": 2
   },
   "file_extension": ".py",
   "mimetype": "text/x-python",
   "name": "python",
   "nbconvert_exporter": "python",
   "pygments_lexer": "ipython2",
   "version": "2.7.13"
  }
 },
 "nbformat": 4,
 "nbformat_minor": 2
}
